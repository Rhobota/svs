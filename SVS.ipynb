{
 "cells": [
  {
   "cell_type": "code",
   "execution_count": 1,
   "id": "41b537f9-7934-4f87-a594-7e7a9b9f97c8",
   "metadata": {},
   "outputs": [],
   "source": [
    "import numpy as np"
   ]
  },
  {
   "cell_type": "code",
   "execution_count": 2,
   "id": "216183a7-da61-4c2e-995e-5082974ce746",
   "metadata": {},
   "outputs": [],
   "source": [
    "d_emb = 1536\n",
    "\n",
    "n_samples = 1_000_000"
   ]
  },
  {
   "cell_type": "code",
   "execution_count": 3,
   "id": "42f4886c-f8c6-4fc7-a7b2-bb93e2a1ca9a",
   "metadata": {},
   "outputs": [
    {
     "data": {
      "text/plain": [
       "((1000000, 1536), dtype('float32'))"
      ]
     },
     "execution_count": 3,
     "metadata": {},
     "output_type": "execute_result"
    }
   ],
   "source": [
    "X = np.random.default_rng(1234).random(size=(n_samples, d_emb), dtype=np.float32)\n",
    "X.shape, X.dtype"
   ]
  },
  {
   "cell_type": "code",
   "execution_count": 4,
   "id": "36fdbabc-9dcf-4714-98c7-0ec8f9aaab22",
   "metadata": {},
   "outputs": [
    {
     "data": {
      "text/plain": [
       "((1536,), dtype('float32'))"
      ]
     },
     "execution_count": 4,
     "metadata": {},
     "output_type": "execute_result"
    }
   ],
   "source": [
    "vec = np.random.random(size=d_emb).astype(np.float32)\n",
    "vec.shape, vec.dtype"
   ]
  },
  {
   "cell_type": "code",
   "execution_count": 5,
   "id": "d2ccc72e-b6dc-4280-9aee-a90170b6dc7c",
   "metadata": {},
   "outputs": [
    {
     "name": "stdout",
     "output_type": "stream",
     "text": [
      "CPU times: user 828 ms, sys: 65.3 ms, total: 893 ms\n",
      "Wall time: 284 ms\n"
     ]
    },
    {
     "data": {
      "text/plain": [
       "((1000000,), dtype('float32'))"
      ]
     },
     "execution_count": 5,
     "metadata": {},
     "output_type": "execute_result"
    }
   ],
   "source": [
    "%%time\n",
    "\n",
    "y = np.dot(X, vec)\n",
    "y.shape, y.dtype"
   ]
  },
  {
   "cell_type": "code",
   "execution_count": 6,
   "id": "fa76407c-04a8-41e6-abde-d6e9e1502e63",
   "metadata": {},
   "outputs": [],
   "source": [
    "# import pandas as pd\n",
    "# pd.Series(y).hist(bins=100)"
   ]
  },
  {
   "cell_type": "code",
   "execution_count": 7,
   "id": "e94c2458-7006-4090-b7c1-5efcff62b250",
   "metadata": {},
   "outputs": [
    {
     "data": {
      "text/plain": [
       "6144000000"
      ]
     },
     "execution_count": 7,
     "metadata": {},
     "output_type": "execute_result"
    }
   ],
   "source": [
    "X.nbytes"
   ]
  },
  {
   "cell_type": "code",
   "execution_count": 8,
   "id": "a5e6ece6-818e-40f7-a908-0a50c407b14d",
   "metadata": {},
   "outputs": [
    {
     "data": {
      "text/plain": [
       "6144000000"
      ]
     },
     "execution_count": 8,
     "metadata": {},
     "output_type": "execute_result"
    }
   ],
   "source": [
    "d_emb * n_samples * 4"
   ]
  },
  {
   "cell_type": "code",
   "execution_count": null,
   "id": "e6951320-7a5f-4654-94a9-147403710e9f",
   "metadata": {},
   "outputs": [],
   "source": []
  }
 ],
 "metadata": {
  "kernelspec": {
   "display_name": "Python 3 (ipykernel)",
   "language": "python",
   "name": "python3"
  },
  "language_info": {
   "codemirror_mode": {
    "name": "ipython",
    "version": 3
   },
   "file_extension": ".py",
   "mimetype": "text/x-python",
   "name": "python",
   "nbconvert_exporter": "python",
   "pygments_lexer": "ipython3",
   "version": "3.8.17"
  }
 },
 "nbformat": 4,
 "nbformat_minor": 5
}
