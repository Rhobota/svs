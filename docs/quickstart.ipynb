{
 "cells": [
  {
   "cell_type": "raw",
   "id": "52fd1d52-ea95-449e-85f3-03bcec576bfe",
   "metadata": {},
   "source": [
    "---\n",
    "title: \"Quickstart with SVS\"\n",
    "order: 010\n",
    "---"
   ]
  },
  {
   "cell_type": "markdown",
   "id": "3fd21b1c-5bb1-4ebc-a90a-a36298d37fe7",
   "metadata": {},
   "source": [
    "## Installing"
   ]
  },
  {
   "cell_type": "code",
   "execution_count": null,
   "id": "f8747c67-4a6e-43e4-bba6-7cb6acde649b",
   "metadata": {
    "scrolled": true
   },
   "outputs": [],
   "source": [
    "!pip install svs"
   ]
  },
  {
   "cell_type": "markdown",
   "id": "816cca77-d72a-44e7-ad6a-d320eed7cd79",
   "metadata": {},
   "source": [
    "### Check your version!"
   ]
  },
  {
   "cell_type": "code",
   "execution_count": 1,
   "id": "a2e8014f-f470-4dee-b766-00a94cdb30df",
   "metadata": {},
   "outputs": [
    {
     "name": "stdout",
     "output_type": "stream",
     "text": [
      "0.7.4\n"
     ]
    }
   ],
   "source": [
    "import svs\n",
    "\n",
    "print(svs.__version__)"
   ]
  },
  {
   "cell_type": "markdown",
   "id": "c1e8b087-a689-4df7-bdc6-19f3f965f8e8",
   "metadata": {},
   "source": [
    "### Hello SVS"
   ]
  },
  {
   "cell_type": "code",
   "execution_count": 1,
   "id": "8458890f-abde-4413-a8f2-60ee63c18894",
   "metadata": {},
   "outputs": [],
   "source": [
    "from svs import KB\n",
    "# TODO"
   ]
  },
  {
   "cell_type": "code",
   "execution_count": null,
   "id": "b628cae3-96c2-4ca5-b02f-1c7d2237dd00",
   "metadata": {},
   "outputs": [],
   "source": []
  }
 ],
 "metadata": {
  "kernelspec": {
   "display_name": "Python 3 (ipykernel)",
   "language": "python",
   "name": "python3"
  },
  "language_info": {
   "codemirror_mode": {
    "name": "ipython",
    "version": 3
   },
   "file_extension": ".py",
   "mimetype": "text/x-python",
   "name": "python",
   "nbconvert_exporter": "python",
   "pygments_lexer": "ipython3",
   "version": "3.12.3"
  }
 },
 "nbformat": 4,
 "nbformat_minor": 5
}
