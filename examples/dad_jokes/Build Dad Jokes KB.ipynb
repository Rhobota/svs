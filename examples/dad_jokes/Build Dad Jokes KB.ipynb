{
 "cells": [
  {
   "cell_type": "markdown",
   "id": "b704bb97-c14d-44fd-8b85-14696f0f5859",
   "metadata": {},
   "source": [
    "# Dad Jokes Knowledge Base\n",
    "\n",
    "Chosen Dataset:\n",
    "- **Source:** https://www.kaggle.com/datasets/usamabuttar/dad-jokes\n",
    "- **License:** CC0: Public Domain\n",
    "- (version from 2024-07-13)\n",
    "\n",
    "PS: I also considered [this dataset](https://www.kaggle.com/datasets/oktayozturk010/reddit-dad-jokes/data) but it is larger than I wanted (i.e. the resulting file size would be too large for easily sharing)."
   ]
  },
  {
   "cell_type": "code",
   "execution_count": 1,
   "id": "e1f87ee8-44c4-4b37-9556-dc13c7219533",
   "metadata": {},
   "outputs": [],
   "source": [
    "import svs\n",
    "import pandas as pd\n",
    "\n",
    "# !!!!!!!!!!!!!!!!!!!!!!!!!!!!!!!!!!!!!!!!!!!!!!!!!!!!!!!!!!!!!\n",
    "# !!! You must set your OPENAI_API_KEY environment varaible !!!\n",
    "# !!!!!!!!!!!!!!!!!!!!!!!!!!!!!!!!!!!!!!!!!!!!!!!!!!!!!!!!!!!!!\n",
    "\n",
    "import os\n",
    "from dotenv import load_dotenv; load_dotenv()\n",
    "assert os.environ.get('OPENAI_API_KEY')"
   ]
  },
  {
   "cell_type": "code",
   "execution_count": 2,
   "id": "1fb74c5b-0efc-421e-a9b6-da1983d3f891",
   "metadata": {},
   "outputs": [],
   "source": [
    "import logging\n",
    "\n",
    "logging.basicConfig(\n",
    "    level=logging.INFO,\n",
    "    format='%(asctime)s - %(name)s - %(levelname)s - %(message)s',\n",
    ")"
   ]
  },
  {
   "cell_type": "markdown",
   "id": "302bd601-1171-4e21-89b6-fcb3e981abcc",
   "metadata": {},
   "source": [
    "# Step 1: Load the Knowledge Base\n",
    "\n",
    "We'll read the data and load the KB. As part of that process, the embeddings will be queried from OpanAI and stored in the database.\n",
    "\n",
    "Note: This is _not_ the final step; we'll do more cleaning in later steps..."
   ]
  },
  {
   "cell_type": "code",
   "execution_count": 3,
   "id": "8416ca5f-77a9-4b0b-bd10-5a4292a7a172",
   "metadata": {},
   "outputs": [],
   "source": [
    "DB_FILE_PATH = './dad_jokes.sqlite'\n",
    "\n",
    "if os.path.exists(DB_FILE_PATH):\n",
    "    os.unlink(DB_FILE_PATH)\n",
    "\n",
    "kb = svs.KB(DB_FILE_PATH, svs.make_openai_embeddings_func())"
   ]
  },
  {
   "cell_type": "code",
   "execution_count": 4,
   "id": "31177265-81b5-4ee6-a5ff-694d022e488f",
   "metadata": {},
   "outputs": [
    {
     "data": {
      "text/plain": [
       "(10548,\n",
       " ['A steak pun is a rare medium well done.',\n",
       "  'They say that breakfast is the most important meal of the day. Well, not if it’s poisoned. Then the antidote becomes the most important.',\n",
       "  'What do you get if you cross an angry sheep with a moody cow? An animal that’s in a baaaaad mooood.',\n",
       "  'An apple a day keeps the doctor away. At least it does if you throw it hard enough.',\n",
       "  'What sounds like a sneeze and is made of leather? A shoe.',\n",
       "  'A man found a magic lamp with a genie that offered him three wishes. The man said, “For my first wish, I’d like to be rich.” “Okay, Rich,” said the genie. “What would you like for your second wish?”',\n",
       "  'When does a joke become a dad joke? When it becomes apparent.',\n",
       "  'I finally watched that documentary on clocks. It was about time.',\n",
       "  'What did the sink tell the toilet? You look flushed!',\n",
       "  'Why did the nose feel sad? It was always getting picked on.'])"
      ]
     },
     "execution_count": 4,
     "metadata": {},
     "output_type": "execute_result"
    }
   ],
   "source": [
    "df = pd.read_csv('./dad_jokes.csv')\n",
    "\n",
    "jokes = df['joke'].str.strip()\n",
    "jokes = list(jokes.unique())\n",
    "\n",
    "len(jokes), jokes[:10]"
   ]
  },
  {
   "cell_type": "code",
   "execution_count": 5,
   "id": "35658a40-0bf3-4a5f-8f54-d1d3ee677b1f",
   "metadata": {},
   "outputs": [
    {
     "name": "stderr",
     "output_type": "stream",
     "text": [
      "2024-07-15 22:56:36,315 - svs.kb - INFO - starting bulk-add (as new database transaction)\n",
      "2024-07-15 22:56:36,385 - svs.kb - INFO - getting 10548 document embeddings...\n",
      "2024-07-15 22:58:46,857 - svs.kb - INFO - *DONE*: got 10548 document embeddings\n",
      "2024-07-15 22:58:46,857 - svs.kb - INFO - invalidating cached vectors; they'll be re-built next time you `retrieve()`\n",
      "2024-07-15 22:58:46,859 - svs.kb - INFO - ending bulk-add (committing the database transaction)\n"
     ]
    },
    {
     "name": "stdout",
     "output_type": "stream",
     "text": [
      "CPU times: user 14.3 s, sys: 2.23 s, total: 16.5 s\n",
      "Wall time: 2min 10s\n"
     ]
    }
   ],
   "source": [
    "%%time\n",
    "\n",
    "with kb.bulk_add_docs() as add_doc:\n",
    "    for j in jokes:\n",
    "        add_doc(j)"
   ]
  },
  {
   "cell_type": "markdown",
   "id": "ea01ecd9-ca0e-4b8d-8325-c94fdee3dd05",
   "metadata": {},
   "source": [
    "# Step 2: Remove \"not safe for work\" jokes\n",
    "\n",
    "IMO dad jokes should be funny for _any_ audience (e.g. young kids). Also, I'd like to be able to present this work in professional contexts without anyone blushing. So we'll use semantic similarity to find-and-remove jokes that are, as they say, \"not safe for work\".\n",
    "\n",
    "Also, the final file size (from Step 1) is a bit too big anyway (I want to be able to easily share the resulting file), so removing some jokes will help that too."
   ]
  },
  {
   "cell_type": "code",
   "execution_count": 6,
   "id": "bfe517e9-0f02-470f-ab29-6e585987a8db",
   "metadata": {},
   "outputs": [
    {
     "name": "stderr",
     "output_type": "stream",
     "text": [
      "2024-07-15 22:58:58,934 - svs.kb - INFO - retrieving 10548 documents with query string: explicit sex references; sexual content or sexual jokes; also generally anything \"not safe for work\" (NSFW) such as racist, misogynistic, or otherwise discriminatory content\n",
      "2024-07-15 22:58:58,937 - svs.kb - INFO - re-building cached vectors...\n",
      "2024-07-15 22:58:59,996 - svs.kb - INFO - re-building cached vectors... DONE!\n",
      "2024-07-15 22:59:00,232 - svs.kb - INFO - got embedding for query!\n",
      "2024-07-15 22:59:00,269 - svs.kb - INFO - computed 10548 cosine similarities\n",
      "2024-07-15 22:59:00,349 - svs.kb - INFO - retrieved top 10548 documents\n"
     ]
    },
    {
     "name": "stdout",
     "output_type": "stream",
     "text": [
      "CPU times: user 1.28 s, sys: 99.9 ms, total: 1.38 s\n",
      "Wall time: 1.42 s\n"
     ]
    }
   ],
   "source": [
    "%%time\n",
    "\n",
    "query = 'explicit sex references; sexual content or sexual jokes; also generally anything \"not safe for work\" (NSFW) such as racist, misogynistic, or otherwise discriminatory content'\n",
    "\n",
    "docs = kb.retrieve(query, n=len(kb))"
   ]
  },
  {
   "cell_type": "code",
   "execution_count": 7,
   "id": "1dd85667-4790-41c5-82bc-e51f6ad3b3b3",
   "metadata": {},
   "outputs": [
    {
     "data": {
      "text/plain": [
       "<Axes: >"
      ]
     },
     "execution_count": 7,
     "metadata": {},
     "output_type": "execute_result"
    },
    {
     "data": {
      "image/png": "[encoded data removed]",
      "text/plain": [
       "<Figure size 640x480 with 1 Axes>"
      ]
     },
     "metadata": {},
     "output_type": "display_data"
    }
   ],
   "source": [
    "scores = pd.Series([doc['score'] for doc in docs])\n",
    "\n",
    "scores.hist(bins=20)"
   ]
  },
  {
   "cell_type": "code",
   "execution_count": 8,
   "id": "6dd782e2-38c7-4e4d-91c2-618f0607e3bd",
   "metadata": {},
   "outputs": [
    {
     "data": {
      "text/plain": [
       "count    10548.000000\n",
       "mean         0.111235\n",
       "std          0.055459\n",
       "min         -0.072688\n",
       "25%          0.073623\n",
       "50%          0.108523\n",
       "75%          0.145078\n",
       "max          0.365002\n",
       "dtype: float64"
      ]
     },
     "execution_count": 8,
     "metadata": {},
     "output_type": "execute_result"
    }
   ],
   "source": [
    "scores.describe()"
   ]
  },
  {
   "cell_type": "code",
   "execution_count": 9,
   "id": "358027b0-b78a-4591-aa26-5d3f1f081bce",
   "metadata": {},
   "outputs": [
    {
     "data": {
      "text/plain": [
       "np.float64(0.434963974213121)"
      ]
     },
     "execution_count": 9,
     "metadata": {},
     "output_type": "execute_result"
    }
   ],
   "source": [
    "THRESH = 0.1\n",
    "\n",
    "(scores < THRESH).mean()"
   ]
  },
  {
   "cell_type": "code",
   "execution_count": 10,
   "id": "a9684cb1-ce70-4718-918b-b5508196e8e7",
   "metadata": {},
   "outputs": [],
   "source": [
    "# with kb.bulk_del_docs() as del_doc:\n",
    "#     for doc in sorted(docs, key = lambda doc: doc['score'], reverse=True):\n",
    "#         if doc['score'] < THRESH:\n",
    "#             break\n",
    "#         print(f\"{doc['score']:.4f}: {doc['doc']['text']}\")"
   ]
  },
  {
   "cell_type": "code",
   "execution_count": 11,
   "id": "42587de4-83d5-4af8-b6c4-1d4ec3a68321",
   "metadata": {},
   "outputs": [
    {
     "name": "stderr",
     "output_type": "stream",
     "text": [
      "2024-07-15 22:59:26,868 - svs.kb - INFO - starting bulk-delete (as new database transaction)\n",
      "2024-07-15 22:59:28,867 - svs.kb - INFO - invalidating cached vectors; they'll be re-built next time you `retrieve()`\n",
      "2024-07-15 22:59:28,873 - svs.kb - INFO - ending bulk-delete (committing the database transaction)\n"
     ]
    }
   ],
   "source": [
    "with kb.bulk_del_docs() as del_doc:\n",
    "    for doc in sorted(docs, key = lambda doc: doc['score'], reverse=True):\n",
    "        if doc['score'] < THRESH:\n",
    "            break\n",
    "        del_doc(doc['doc_id'])"
   ]
  },
  {
   "cell_type": "markdown",
   "id": "b819fe7b-a1ae-4ead-a61d-1d763d16ec44",
   "metadata": {},
   "source": [
    "# Step 3: Remove duplicates\n",
    "\n",
    "We'll look at documents' pairwise semantic similarity scores to find _duplicate_ jokes! I don't want duplicate jokes!"
   ]
  },
  {
   "cell_type": "code",
   "execution_count": 12,
   "id": "9a225f42-2f13-4f62-bee6-fc1883a25e2f",
   "metadata": {},
   "outputs": [
    {
     "name": "stderr",
     "output_type": "stream",
     "text": [
      "2024-07-15 22:59:30,611 - svs.kb - INFO - re-building cached vectors...\n",
      "2024-07-15 22:59:31,097 - svs.kb - INFO - re-building cached vectors... DONE!\n",
      "2024-07-15 22:59:31,097 - svs.kb - INFO - computing pairwise similarity over 4588 documents\n",
      "2024-07-15 22:59:31,407 - svs.kb - INFO - computed 21049744 pairwise cosine similarities\n",
      "2024-07-15 22:59:31,437 - svs.kb - INFO - retrieved top 10000 document pairs\n"
     ]
    },
    {
     "data": {
      "text/plain": [
       "<Axes: >"
      ]
     },
     "execution_count": 12,
     "metadata": {},
     "output_type": "execute_result"
    },
    {
     "data": {
      "image/png": "[encoded data removed]",
      "text/plain": [
       "<Figure size 640x480 with 1 Axes>"
      ]
     },
     "metadata": {},
     "output_type": "display_data"
    }
   ],
   "source": [
    "pairwise_scores = kb.document_top_pairwise_scores(n=10_000)\n",
    "\n",
    "scores = pd.Series([score for score, _, _ in pairwise_scores])\n",
    "\n",
    "scores.hist(bins=20)"
   ]
  },
  {
   "cell_type": "code",
   "execution_count": 13,
   "id": "26212ec4-e66d-4108-ab38-21100eef254e",
   "metadata": {},
   "outputs": [
    {
     "name": "stdout",
     "output_type": "stream",
     "text": [
      "!!! 0.9976 !!!\n",
      "> Did you hear about the guy who invented the knock-knock joke? He won the 'no-bell' prize.'\n",
      "> Did you hear about the guy who invented the knock-knock joke? He won the 'no-bell' prize.\n",
      "\n",
      "!!! 0.9970 !!!\n",
      "> A cop started crying while he was writing me a ticket. I asked him why and he said, \"It's a moving violation.\"\n",
      "> A cop started crying while he was writing me a ticket. I asked him why and he said, 'It's a moving violation.'\n",
      "\n",
      "!!! 0.9970 !!!\n",
      "> My ex and I had a very amicable divorce. I know this because when I posted on Facebook, 'I’m getting a divorce,' she was the first one to like it.\n",
      "> My ex and I had a very amicable divorce. I know this because when I posted on Facebook, “I’m getting a divorce,” she was the first one to like it.\n",
      "\n",
      "!!! 0.9964 !!!\n",
      "> A panic-stricken man explained to his doctor, “You have to help me, I think I’m shrinking.” “Now settle down,” the doctor calmly told him. “You'll just have to learn to be a little patient.”\n",
      "> A panic-stricken man explained to his doctor, 'You have to help me, I think I’m shrinking.' 'Now settle down,' the doctor calmly told him. 'You'll just have to learn to be a little patient.'\n",
      "\n",
      "!!! 0.9962 !!!\n",
      "> Do you know the last thing my grandfather said to me before he kicked the bucket? “Grandson, watch how far I can kick this bucket.”\n",
      "> Do you know what the last thing my grandfather said to me was before he kicked the bucket? “Grandson, watch how far I can kick this bucket.”\n",
      "\n",
      "!!! 0.9958 !!!\n",
      "> A college education now costs $100,000, but it produces three very proud people—the student, his mama, and his pauper.\n",
      "> A college education now costs $100,000, but it produces three very proud people-the student, his mama, and his pauper.\n",
      "\n",
      "!!! 0.9956 !!!\n",
      "> I built a model of Mount Everest and my son asked if it was to scale. \"No,\" I said. \"It's to look at.\"\n",
      "> I built a model of Mount Everest and my son asked if it was to scale. 'No,' I said. 'It's to look at.'\n",
      "\n",
      "!!! 0.9955 !!!\n",
      "> A cop started crying while he was writing me a ticket. I asked him why and he said, 'It's a moving violation.'\n",
      "> A cop started crying while he was writing me a ticket. I asked him why and he said, It's a moving violation.\n",
      "\n",
      "!!! 0.9953 !!!\n",
      "> A cop started crying while he was writing me a ticket. I asked him why and he said, \"It's a moving violation.\"\n",
      "> A cop started crying while he was writing me a ticket. I asked him why and he said, It's a moving violation.\n",
      "\n"
     ]
    }
   ],
   "source": [
    "for score, doc_1, doc_2 in pairwise_scores:\n",
    "    if score < 0.9952:\n",
    "        break\n",
    "    print(f'!!! {score:.4f} !!!')\n",
    "    print(f\"> {doc_1['text']}\")\n",
    "    print(f\"> {doc_2['text']}\")\n",
    "    print()"
   ]
  },
  {
   "cell_type": "code",
   "execution_count": 14,
   "id": "d70eb14b-3825-44de-9730-0ebca38aa0ab",
   "metadata": {},
   "outputs": [
    {
     "name": "stdout",
     "output_type": "stream",
     "text": [
      "!!! 0.7995 !!!\n",
      "> I decided to remove my racing snail's shell to make him go faster. But if anything, it just made him more sluggish.\n",
      "> I pulled the shell off of my snail to make him faster Turned out it had the opposite effect, now he's a little sluggish.\n",
      "\n",
      "!!! 0.7994 !!!\n",
      "> What’s the difference between an African elephant and an Indian elephant? About 5,000 miles.\n",
      "> What's the difference between an Indian and African elephant? For starters, one of them is an elephant.\n",
      "\n",
      "!!! 0.7993 !!!\n",
      "> It was a baby mosquito's first day to fly out from home. When the mosquito came back home later that day, the father mosquito asked, \"How was your journey?\"The baby mosquito replied, \"It went great, everyone was clapping for me!\"\n",
      "> A young mosquito returned to its mother. How was your flight dear? asked mom.It was great mom, everyone clapped for me!\n",
      "\n",
      "!!! 0.7993 !!!\n",
      "> Which U.S. state is famous for its extra-small soft drinks? Minnesota!\n",
      "> Which state gives you the smallest beverages? Minnesota.\n",
      "\n",
      "!!! 0.7991 !!!\n",
      "> I was reading a book on anti gravity last night. I found it quite difficult to put down.\n",
      "> I'm reading a book about anti-gravity. It's impossible to put down!  It's impossible to put down!\n",
      "\n",
      "!!! 0.7989 !!!\n",
      "> You can't trust atoms. They make up everything!\n",
      "> Why don’t scientists trust atoms? Because they make up everything.\n",
      "\n",
      "!!! 0.7987 !!!\n",
      "> Where do you learn to make ice cream? Sundae school.\n",
      "> Where do you learn to make a banana split?' 'Sundae school.'\n",
      "\n",
      "!!! 0.7986 !!!\n",
      "> My friend was showing me his tool shed and pointed to a ladder. 'That's my stepladder,' he said. 'I never knew my real ladder.'\n",
      "> (Holding a step ladder) \"This is my step ladder... I never knew my real ladder.\"\n",
      "\n",
      "!!! 0.7981 !!!\n",
      "> I decided to sell my vacuum cleaner—it was just gathering dust!'\n",
      "> Why did the man decide to sell his vacuum? It was just collecting dust.\n",
      "\n",
      "!!! 0.7970 !!!\n",
      "> My toddler is refusing to nap. He’s guilty of resisting a rest.\n",
      "> If a child refuses to nap, are they guilty of resisting a rest?\n",
      "\n",
      "!!! 0.7964 !!!\n",
      "> I called a suicide support line in the middle east They got excited and asked me i if i know how to drive a car\n",
      "> I called a suicide hotline in Afghanistan They got all excited and asked if I could drive a truck.\n",
      "\n",
      "!!! 0.7960 !!!\n",
      "> I pulled the shell off of my snail to make him faster Turned out it had the opposite effect, now he's a little sluggish.\n",
      "> I wanted to help my pet snail. He was really slow like, so one day I took off his shell, thought it'd make him more streamlined. Turns out it didn't. It made him more sluggish.\n",
      "\n"
     ]
    }
   ],
   "source": [
    "for score, doc_1, doc_2 in pairwise_scores:\n",
    "    if score > 0.8:\n",
    "        continue\n",
    "    if score < 0.795:\n",
    "        break\n",
    "    print(f'!!! {score:.4f} !!!')\n",
    "    print(f\"> {doc_1['text']}\")\n",
    "    print(f\"> {doc_2['text']}\")\n",
    "    print()"
   ]
  },
  {
   "cell_type": "code",
   "execution_count": 15,
   "id": "e1f843db-691e-4ea3-942b-1a159ffc0daa",
   "metadata": {},
   "outputs": [
    {
     "name": "stdout",
     "output_type": "stream",
     "text": [
      "!!! 0.5999 !!!\n",
      "> I went to the shop to buy a foot pump for our new air bed. I was shocked by how much the price had risen since the last pump I purchased. But yer, I suppose that’s the cost of inflation.\n",
      "> It used to be free to fill your tires with air now it costs $1.50! Now that's what you call inflation!\n",
      "\n",
      "!!! 0.5999 !!!\n",
      "> How many mystery writers does it take to change a lightbulb? Two. One to screw it in most of the way and another to give it a surprise twist at the end.\n",
      "> How many actors does it take to change a light bulb? only one cause they don't like to share the spot light\n",
      "\n",
      "!!! 0.5999 !!!\n",
      "> What breed of dog can jump higher than buildings? Any dog, because buildings can’t jump.\n",
      "> Can a kangaroo jump higher than a house? Of course. Houses can’t jump\n",
      "\n",
      "!!! 0.5997 !!!\n",
      "> A very long time ago, the ancients struggled to come up with a term for a 24 hour period. It got very late and they said \"lets just call it a day\".\n",
      "> God thought long and hard what to name the period of time when the sun was not visible... Finally, after many hours of trying different sounds and variations he named it night. But when naming the opposite, he was exhaust and called it a day.\n",
      "\n",
      "!!! 0.5996 !!!\n",
      "> To the guy who invented the zero... Thanks for nothing.\n",
      "> TIL Zero and its operation were first defined by Hindu astronomer and mathematician Brahmagupta in 628 Thanks for nothing\n",
      "\n",
      "!!! 0.5996 !!!\n",
      "> How many baby boomers does it take to change a light bulb? None. They just hire someone to do it and complain how back then a bulb used to cost a nickel\n",
      "> How many Germans does it take to change a lightbulb? Just the one, because they are very efficient and they don't have a sense of humour.\n",
      "\n",
      "!!! 0.5994 !!!\n",
      "> Why are bakers so rich? They make so much dough.\n",
      "> I am the breadwinner of the family I make the most dough\n",
      "\n",
      "!!! 0.5993 !!!\n",
      "> What ruined Tiger Woods’ golf career? His driving game.\n",
      "> Tiger Woods has really picked up his game He used to only flip his golf club\n",
      "\n",
      "!!! 0.5992 !!!\n",
      "> What was the pumpkin’s favorite sport? Squash.\n",
      "> What instrument does a pumpkin play? An a-gourd-ian. (I’m so sorry I had to get it out of my head)\n",
      "\n",
      "!!! 0.5992 !!!\n",
      "> I'm reading a book about anti-gravity. It's impossible to put down!'\n",
      "> I was reading a great book about an immortal dog the other day. It was Impossible to put down.\n",
      "\n",
      "!!! 0.5991 !!!\n",
      "> Where do armies belong? In your sleeves.\n",
      "> Where did Napoleon keep his armies? Up his sleevies!\n",
      "\n",
      "!!! 0.5990 !!!\n",
      "> What reward does a light rain get? A precipitation trophy\n",
      "> My son lost a youth baseball game because of heavy rain... ...he received a precipitation trophy\n",
      "\n"
     ]
    }
   ],
   "source": [
    "for score, doc_1, doc_2 in pairwise_scores:\n",
    "    if score > 0.6:\n",
    "        continue\n",
    "    if score < 0.599:\n",
    "        break\n",
    "    print(f'!!! {score:.4f} !!!')\n",
    "    print(f\"> {doc_1['text']}\")\n",
    "    print(f\"> {doc_2['text']}\")\n",
    "    print()"
   ]
  },
  {
   "cell_type": "code",
   "execution_count": 16,
   "id": "a7bb028c-a915-4813-8023-a6b3d6007418",
   "metadata": {},
   "outputs": [
    {
     "name": "stderr",
     "output_type": "stream",
     "text": [
      "2024-07-15 22:59:54,723 - svs.kb - INFO - starting bulk-delete (as new database transaction)\n",
      "2024-07-15 22:59:54,802 - svs.kb - INFO - invalidating cached vectors; they'll be re-built next time you `retrieve()`\n",
      "2024-07-15 22:59:54,804 - svs.kb - INFO - ending bulk-delete (committing the database transaction)\n"
     ]
    }
   ],
   "source": [
    "# Um, this is actually graph problem.\n",
    "#\n",
    "# The correct solution would be to:\n",
    "#   1. Build a graph from the edges above.\n",
    "#   2. Compute the \"connected components\" of that graph.\n",
    "#   3. For each connected component, pick one node (i.e. a joke) to keep, then delete the rest!\n",
    "#\n",
    "# However, the below is a dumb \"good enough\" solution, since I'd rather not add *yet more* complexity to this notebook.\n",
    "\n",
    "with kb.bulk_del_docs() as del_doc:\n",
    "    for score, doc_1, doc_2 in pairwise_scores:\n",
    "        if score < 0.9:\n",
    "            break\n",
    "        try:\n",
    "            del_doc(doc_2['id'])\n",
    "        except KeyError:\n",
    "            pass  # we must have already deleted this document in a previous iteration (possible if 3-or-more jokes are all similar)"
   ]
  },
  {
   "cell_type": "code",
   "execution_count": 17,
   "id": "35fc3b2c-2c10-4627-a7c9-1e53c9a50361",
   "metadata": {},
   "outputs": [
    {
     "name": "stderr",
     "output_type": "stream",
     "text": [
      "2024-07-15 22:59:57,818 - svs.kb - INFO - invalidating cached vectors; they'll be re-built next time you `retrieve()`\n"
     ]
    }
   ],
   "source": [
    "# !!!!!!!!!!!!!!!!!!!!!!!!!!!!!!!!!!!!!!!!!!!!!!!!!!!!!!!!!!!!!!!!!!!!!!!!!!!!!!!!!!!!!!\n",
    "# !!! Since we deleted records from the database, it's a good practice to vacuum it. !!!\n",
    "# !!!!!!!!!!!!!!!!!!!!!!!!!!!!!!!!!!!!!!!!!!!!!!!!!!!!!!!!!!!!!!!!!!!!!!!!!!!!!!!!!!!!!!\n",
    "\n",
    "kb.close(vacuum=True)"
   ]
  },
  {
   "cell_type": "markdown",
   "id": "fac205b0-512e-45df-8019-83abd33743b9",
   "metadata": {},
   "source": [
    "# Step 4: Final Sanity Check\n",
    "\n",
    "Let's just make sure it's all still working correctly by querying some jokes!"
   ]
  },
  {
   "cell_type": "code",
   "execution_count": 18,
   "id": "9b9c8fcb-eb3e-472e-8421-f23763427f54",
   "metadata": {},
   "outputs": [
    {
     "data": {
      "text/plain": [
       "4213"
      ]
     },
     "execution_count": 18,
     "metadata": {},
     "output_type": "execute_result"
    }
   ],
   "source": [
    "kb = svs.KB(DB_FILE_PATH)\n",
    "len(kb)"
   ]
  },
  {
   "cell_type": "code",
   "execution_count": 19,
   "id": "df63adff-733e-4b76-bfb4-5f17b4a14d32",
   "metadata": {},
   "outputs": [
    {
     "name": "stderr",
     "output_type": "stream",
     "text": [
      "2024-07-15 23:00:05,715 - svs.kb - INFO - retrieving 5 documents with query string: pizza\n",
      "2024-07-15 23:00:05,718 - svs.kb - INFO - re-building cached vectors...\n",
      "2024-07-15 23:00:06,160 - svs.kb - INFO - re-building cached vectors... DONE!\n",
      "2024-07-15 23:00:06,517 - svs.kb - INFO - got embedding for query!\n",
      "2024-07-15 23:00:06,524 - svs.kb - INFO - computed 4213 cosine similarities\n",
      "2024-07-15 23:00:06,527 - svs.kb - INFO - retrieved top 5 documents\n"
     ]
    },
    {
     "name": "stdout",
     "output_type": "stream",
     "text": [
      "CPU times: user 447 ms, sys: 49.6 ms, total: 496 ms\n",
      "Wall time: 814 ms\n"
     ]
    },
    {
     "data": {
      "text/plain": [
       "[{'score': 0.4219512641429901,\n",
       "  'doc_id': 9090,\n",
       "  'doc': {'id': 9090,\n",
       "   'parent_id': None,\n",
       "   'level': 0,\n",
       "   'text': 'How do you fix a broken pizza? With tomato paste.',\n",
       "   'embedding': True,\n",
       "   'meta': None}},\n",
       " {'score': 0.4053124785423279,\n",
       "  'doc_id': 8676,\n",
       "  'doc': {'id': 8676,\n",
       "   'parent_id': None,\n",
       "   'level': 0,\n",
       "   'text': 'I ate a salad for dinner! It was mostly tomatoes and croutons.Really just one, big round crouton covered in tomato sauce. And cheese.... I had a pizza.',\n",
       "   'embedding': True,\n",
       "   'meta': None}},\n",
       " {'score': 0.3984290361404419,\n",
       "  'doc_id': 4064,\n",
       "  'doc': {'id': 4064,\n",
       "   'parent_id': None,\n",
       "   'level': 0,\n",
       "   'text': 'My sister goes to the pizza place The pizza guy asks: \"would you want me to cut your pizza in 4 or 12 pieces.She said: Please only 4, I can\\'t eat 12 pieces all alone.',\n",
       "   'embedding': True,\n",
       "   'meta': None}},\n",
       " {'score': 0.3751755952835083,\n",
       "  'doc_id': 398,\n",
       "  'doc': {'id': 398,\n",
       "   'parent_id': None,\n",
       "   'level': 0,\n",
       "   'text': \"What is a guitar player's favorite Italian food? Strum-boli.\",\n",
       "   'embedding': True,\n",
       "   'meta': None}},\n",
       " {'score': 0.3636769652366638,\n",
       "  'doc_id': 7113,\n",
       "  'doc': {'id': 7113,\n",
       "   'parent_id': None,\n",
       "   'level': 0,\n",
       "   'text': 'Did you hear about the Italian chef who died? He pasta way!',\n",
       "   'embedding': True,\n",
       "   'meta': None}}]"
      ]
     },
     "execution_count": 19,
     "metadata": {},
     "output_type": "execute_result"
    }
   ],
   "source": [
    "%%time\n",
    "\n",
    "kb.retrieve('pizza', n=5)"
   ]
  },
  {
   "cell_type": "code",
   "execution_count": 20,
   "id": "1ee8ae31-83f7-4450-badd-b402b30a8395",
   "metadata": {},
   "outputs": [
    {
     "name": "stderr",
     "output_type": "stream",
     "text": [
      "2024-07-15 23:00:18,369 - svs.kb - INFO - invalidating cached vectors; they'll be re-built next time you `retrieve()`\n"
     ]
    }
   ],
   "source": [
    "kb.close()"
   ]
  },
  {
   "cell_type": "code",
   "execution_count": null,
   "id": "d9e568d3-7a41-4dd5-a376-6ce42c3e39e5",
   "metadata": {},
   "outputs": [],
   "source": []
  }
 ],
 "metadata": {
  "kernelspec": {
   "display_name": "Python 3 (ipykernel)",
   "language": "python",
   "name": "python3"
  },
  "language_info": {
   "codemirror_mode": {
    "name": "ipython",
    "version": 3
   },
   "file_extension": ".py",
   "mimetype": "text/x-python",
   "name": "python",
   "nbconvert_exporter": "python",
   "pygments_lexer": "ipython3",
   "version": "3.12.3"
  }
 },
 "nbformat": 4,
 "nbformat_minor": 5
}
