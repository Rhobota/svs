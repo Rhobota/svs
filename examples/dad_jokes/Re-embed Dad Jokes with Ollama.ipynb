{
 "cells": [
  {
   "cell_type": "markdown",
   "id": "28823d31-05f0-40f2-8595-bf54a313ca6e",
   "metadata": {},
   "source": [
    "# Re-embed Dad Jokes with Ollama\n",
    "\n",
    "This notebook re-embeds the Dad Jokes (see `Build Dad Jokes KB.ipynb`) using an Ollama model running locally!\n",
    "\n",
    "It creates a new KB (stored to `dad_jokes_ollama.sqlite.gz`) with the Ollama embeddings."
   ]
  },
  {
   "cell_type": "code",
   "execution_count": 1,
   "id": "b8bf8f93-3b4c-4fab-9a4b-4d1c12738c9b",
   "metadata": {},
   "outputs": [],
   "source": [
    "import svs"
   ]
  },
  {
   "cell_type": "code",
   "execution_count": 2,
   "id": "222ae808-c99f-4676-ad99-e64174d8052c",
   "metadata": {},
   "outputs": [],
   "source": [
    "import logging\n",
    "\n",
    "logging.basicConfig(\n",
    "    level=logging.INFO,\n",
    "    format='%(asctime)s - %(name)s - %(levelname)s - %(message)s',\n",
    ")"
   ]
  },
  {
   "cell_type": "code",
   "execution_count": 3,
   "id": "1fa6a67c-2b79-4fb8-be1d-ad643eff3d27",
   "metadata": {},
   "outputs": [],
   "source": [
    "# !!!!!!!!!!!!!!!!!!!!!!!!!!!!!!!!!!!!!!!!!!!!!!!!!!!!!!!!!!!!!!!!!!!!!!!!!!!!!!!!\n",
    "# !!!       IF YOU RUN OLLAMA ON A DIFFERENT HOST OR DIFFERENT PORT            !!!\n",
    "# !!!!!!!!!!!!!!!!!!!!!!!!!!!!!!!!!!!!!!!!!!!!!!!!!!!!!!!!!!!!!!!!!!!!!!!!!!!!!!!!\n",
    "\n",
    "# Below is the default. Comment it out and change it if you need to.\n",
    "# import os\n",
    "# os.environ['OLLAMA_BASE_URL'] = 'http://127.0.0.1:11434'"
   ]
  },
  {
   "cell_type": "markdown",
   "id": "1780917f-2294-4798-b152-c94f77e252e2",
   "metadata": {},
   "source": [
    "## Step 1: Load the Old KB"
   ]
  },
  {
   "cell_type": "code",
   "execution_count": 4,
   "id": "38bfa56e-b412-47e0-95fa-512a6fa12bee",
   "metadata": {},
   "outputs": [
    {
     "name": "stderr",
     "output_type": "stream",
     "text": [
      "2025-01-27 19:20:29,561 - svs.util - INFO - resolve_to_local_uncompressed_file('./dad_jokes.sqlite.gz'): found gzipped file\n",
      "2025-01-27 19:20:29,562 - svs.util - INFO - resolve_to_local_uncompressed_file('./dad_jokes.sqlite.gz'): starting gunzip...\n",
      "2025-01-27 19:20:29,734 - svs.util - INFO - resolve_to_local_uncompressed_file('./dad_jokes.sqlite.gz'): finished gunzip!\n"
     ]
    },
    {
     "data": {
      "text/plain": [
       "<svs.kb.KB at 0x7a18cab309b0>"
      ]
     },
     "execution_count": 4,
     "metadata": {},
     "output_type": "execute_result"
    }
   ],
   "source": [
    "old_kb = svs.KB('./dad_jokes.sqlite.gz')\n",
    "old_kb"
   ]
  },
  {
   "cell_type": "markdown",
   "id": "aa096e4c-f62e-4e5c-bb68-59d7ea8e2550",
   "metadata": {},
   "source": [
    "## Step 2: Create the New KB"
   ]
  },
  {
   "cell_type": "code",
   "execution_count": 5,
   "id": "290cc06c-d1ed-4b3e-a724-62db74e5b4de",
   "metadata": {},
   "outputs": [
    {
     "data": {
      "text/plain": [
       "<svs.kb.KB at 0x7a18cab32900>"
      ]
     },
     "execution_count": 5,
     "metadata": {},
     "output_type": "execute_result"
    }
   ],
   "source": [
    "# At the time of writing, the best Ollama embedding models seem to be:\n",
    "#   - 'nomic-embed-text' or\n",
    "#   - 'mxbai-embed-large'\n",
    "#\n",
    "# But feel free to update the code below with a *new* model if you'd like!\n",
    "#\n",
    "# Also note: You have to do `ollama pull <model>` before running this code.\n",
    "#            Else you'll get an error telling you the same!\n",
    "\n",
    "embed_function = svs.make_ollama_embeddings_func(\n",
    "    model = 'nomic-embed-text',\n",
    "    truncate = False,\n",
    ")\n",
    "\n",
    "new_kb = svs.KB('./dad_jokes_ollama.sqlite', embed_function, force_fresh_db=True)\n",
    "new_kb"
   ]
  },
  {
   "cell_type": "markdown",
   "id": "dd17d635-17bb-4219-bc2b-a06b081f3db2",
   "metadata": {},
   "source": [
    "## Step 3: Copy Old to New"
   ]
  },
  {
   "cell_type": "code",
   "execution_count": 6,
   "id": "6efd8cfd-c0b7-4202-8c17-e450e40486fa",
   "metadata": {},
   "outputs": [
    {
     "name": "stderr",
     "output_type": "stream",
     "text": [
      "2025-01-27 19:21:34,227 - svs.kb - INFO - starting bulk-add (as new database transaction)\n",
      "2025-01-27 19:21:34,310 - svs.kb - INFO - getting 4213 document embeddings...\n",
      "2025-01-27 19:24:20,755 - svs.kb - INFO - *DONE*: got 4213 document embeddings\n",
      "2025-01-27 19:24:20,755 - svs.kb - INFO - invalidating cached vectors; they'll be re-built next time you `retrieve()`\n",
      "2025-01-27 19:24:20,756 - svs.kb - INFO - ending bulk-add (committing the database transaction)\n"
     ]
    },
    {
     "name": "stdout",
     "output_type": "stream",
     "text": [
      "CPU times: user 845 ms, sys: 97.7 ms, total: 943 ms\n",
      "Wall time: 2min 46s\n"
     ]
    }
   ],
   "source": [
    "%%time\n",
    "\n",
    "with old_kb.bulk_query_docs() as old_q:\n",
    "    with new_kb.bulk_add_docs() as new_add_doc:\n",
    "        for old_doc in old_q.dfs_traversal():\n",
    "            new_add_doc(old_doc['text'])"
   ]
  },
  {
   "cell_type": "code",
   "execution_count": 7,
   "id": "95d21b79-53fa-481e-b788-b771d6a34a71",
   "metadata": {},
   "outputs": [
    {
     "name": "stderr",
     "output_type": "stream",
     "text": [
      "2025-01-27 19:24:20,776 - svs.kb - INFO - invalidating cached vectors; they'll be re-built next time you `retrieve()`\n",
      "2025-01-27 19:24:21,028 - svs.kb - INFO - invalidating cached vectors; they'll be re-built next time you `retrieve()`\n",
      "2025-01-27 19:24:21,029 - svs.kb - INFO - KB.close(): starting gzip...\n",
      "2025-01-27 19:24:21,663 - svs.kb - INFO - KB.close(): finished gzip: dad_jokes_ollama.sqlite.gz\n"
     ]
    }
   ],
   "source": [
    "old_kb.close()\n",
    "new_kb.close(vacuum=True, also_gzip=True)"
   ]
  },
  {
   "cell_type": "markdown",
   "id": "a416b69a-d99a-4823-a05e-269d2a7b942e",
   "metadata": {},
   "source": [
    "## Demo!\n",
    "\n",
    "Let's re-open the KB and query something! Just as a demo..."
   ]
  },
  {
   "cell_type": "code",
   "execution_count": 8,
   "id": "0ea580a6-f5ce-4f63-9db6-470d0121bcbe",
   "metadata": {},
   "outputs": [],
   "source": [
    "kb = svs.KB('./dad_jokes_ollama.sqlite')  # <-- it will remember the embedding func!"
   ]
  },
  {
   "cell_type": "code",
   "execution_count": 9,
   "id": "2f2c0c75-ec1b-4491-9544-97776feb5e1f",
   "metadata": {},
   "outputs": [
    {
     "name": "stderr",
     "output_type": "stream",
     "text": [
      "2025-01-27 19:24:21,675 - svs.kb - INFO - retrieving 3 documents with query string: cats\n",
      "2025-01-27 19:24:21,677 - svs.kb - INFO - re-building cached vectors...\n",
      "2025-01-27 19:24:21,929 - svs.kb - INFO - re-building cached vectors... DONE!\n",
      "2025-01-27 19:24:21,961 - svs.kb - INFO - got embedding for query!\n",
      "2025-01-27 19:24:21,967 - svs.kb - INFO - computed 4213 cosine similarities\n",
      "2025-01-27 19:24:21,968 - svs.kb - INFO - retrieved top 3 documents\n"
     ]
    },
    {
     "name": "stdout",
     "output_type": "stream",
     "text": [
      "CPU times: user 246 ms, sys: 17.9 ms, total: 264 ms\n",
      "Wall time: 293 ms\n"
     ]
    },
    {
     "data": {
      "text/plain": [
       "[{'score': 0.7133579254150391,\n",
       "  'doc': {'id': 1181,\n",
       "   'parent_id': None,\n",
       "   'level': 0,\n",
       "   'text': 'Siamese cats are a great choice for a cat lover on a budget. You get two for the price of one.',\n",
       "   'embedding': True,\n",
       "   'meta': None}},\n",
       " {'score': 0.7095077633857727,\n",
       "  'doc': {'id': 1543,\n",
       "   'parent_id': None,\n",
       "   'level': 0,\n",
       "   'text': 'What do cats call their human form? Their purr-sona.',\n",
       "   'embedding': True,\n",
       "   'meta': None}},\n",
       " {'score': 0.704696536064148,\n",
       "  'doc': {'id': 2817,\n",
       "   'parent_id': None,\n",
       "   'level': 0,\n",
       "   'text': 'An English cat named ABC challenges a French cat named 123 to a swim across the English Channel, from the UK to France. They both swim hard, but only the English cat makes it. What happened to the other cat? Well, un deux trois quatre cinq.',\n",
       "   'embedding': True,\n",
       "   'meta': None}}]"
      ]
     },
     "execution_count": 9,
     "metadata": {},
     "output_type": "execute_result"
    }
   ],
   "source": [
    "%%time\n",
    "\n",
    "kb.retrieve('cats', n=3)"
   ]
  },
  {
   "cell_type": "code",
   "execution_count": 10,
   "id": "05b0593a-172c-42d6-8636-8c9397e9bf5b",
   "metadata": {},
   "outputs": [
    {
     "name": "stderr",
     "output_type": "stream",
     "text": [
      "2025-01-27 19:24:21,988 - svs.kb - INFO - invalidating cached vectors; they'll be re-built next time you `retrieve()`\n"
     ]
    }
   ],
   "source": [
    "kb.close()"
   ]
  },
  {
   "cell_type": "code",
   "execution_count": null,
   "id": "32a757fa-589a-419b-a020-0f0881662fb7",
   "metadata": {},
   "outputs": [],
   "source": []
  }
 ],
 "metadata": {
  "kernelspec": {
   "display_name": "Python 3 (ipykernel)",
   "language": "python",
   "name": "python3"
  },
  "language_info": {
   "codemirror_mode": {
    "name": "ipython",
    "version": 3
   },
   "file_extension": ".py",
   "mimetype": "text/x-python",
   "name": "python",
   "nbconvert_exporter": "python",
   "pygments_lexer": "ipython3",
   "version": "3.12.3"
  }
 },
 "nbformat": 4,
 "nbformat_minor": 5
}
