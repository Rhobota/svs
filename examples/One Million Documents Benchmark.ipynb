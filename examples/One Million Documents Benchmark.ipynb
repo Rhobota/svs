{
 "cells": [
  {
   "cell_type": "markdown",
   "id": "75b8ddb1-cc74-4cb4-8daa-faf60c1865cc",
   "metadata": {},
   "source": [
    "# One Million Documents: Benchmark"
   ]
  },
  {
   "cell_type": "code",
   "execution_count": 1,
   "id": "e1f87ee8-44c4-4b37-9556-dc13c7219533",
   "metadata": {},
   "outputs": [],
   "source": [
    "import svs\n",
    "import pandas as pd\n",
    "import os\n",
    "import random\n",
    "import string\n",
    "import numpy as np"
   ]
  },
  {
   "cell_type": "code",
   "execution_count": 2,
   "id": "1fb74c5b-0efc-421e-a9b6-da1983d3f891",
   "metadata": {},
   "outputs": [],
   "source": [
    "import logging\n",
    "\n",
    "logging.basicConfig(\n",
    "    level=logging.INFO,\n",
    "    format='%(asctime)s - %(name)s - %(levelname)s - %(message)s',\n",
    ")"
   ]
  },
  {
   "cell_type": "code",
   "execution_count": 3,
   "id": "0d7a2bc2-dea0-476f-b99d-7056ed61bea1",
   "metadata": {},
   "outputs": [],
   "source": [
    "N = 1_000_000"
   ]
  },
  {
   "cell_type": "markdown",
   "id": "4bedad70-06aa-4406-94d6-c9e6b7c63e33",
   "metadata": {},
   "source": [
    "# Step 1: Create Synthetic Data"
   ]
  },
  {
   "cell_type": "code",
   "execution_count": 4,
   "id": "9496886e-078d-4ecc-a285-c76c7ac202e1",
   "metadata": {},
   "outputs": [],
   "source": [
    "async def fake_embeddings(list_of_strings):\n",
    "    n = len(list_of_strings)\n",
    "    m = 1536   # <-- same as OpenAI's `text-embedding-3-small` embedding dimensionality\n",
    "    v = np.random.random(size=(n, m))\n",
    "    mags = np.sqrt((v * v).sum(axis=1)).reshape(n, 1)\n",
    "    return (v / mags).tolist()"
   ]
  },
  {
   "cell_type": "code",
   "execution_count": 5,
   "id": "da5cea1b-0ec4-4386-8988-bd1eecfc61c5",
   "metadata": {},
   "outputs": [
    {
     "name": "stdout",
     "output_type": "stream",
     "text": [
      "CPU times: user 10min 10s, sys: 1.78 s, total: 10min 12s\n",
      "Wall time: 10min 21s\n"
     ]
    },
    {
     "data": {
      "text/plain": [
       "(1000000, np.float64(1199.320602))"
      ]
     },
     "execution_count": 5,
     "metadata": {},
     "output_type": "execute_result"
    }
   ],
   "source": [
    "%%time\n",
    "\n",
    "letters = list(string.ascii_letters)\n",
    "\n",
    "def rand_word():\n",
    "    n = random.randint(1, 5)\n",
    "    return ''.join(random.choice(letters) for _ in range(n))\n",
    "\n",
    "def rand_document():\n",
    "    n = random.randint(100, 500)\n",
    "    return ' '.join(rand_word() for _ in range(n))\n",
    "\n",
    "rand_docs = [rand_document() for _ in range(N)]\n",
    "\n",
    "len(rand_docs), np.mean([len(doc) for doc in rand_docs])"
   ]
  },
  {
   "cell_type": "markdown",
   "id": "0c899f68-c6ce-4392-a433-d25c1311cbf9",
   "metadata": {},
   "source": [
    "# Step 2: Insert into Knowledge Base"
   ]
  },
  {
   "cell_type": "code",
   "execution_count": 6,
   "id": "8416ca5f-77a9-4b0b-bd10-5a4292a7a172",
   "metadata": {},
   "outputs": [
    {
     "name": "stderr",
     "output_type": "stream",
     "text": [
      "2024-07-28 00:24:38,206 - svs.kb - WARNING - Cannot store this non-standard embeddings function to the database. That's okay, but you'll have to explicitly pass this function to all future instantiations of this database.\n"
     ]
    }
   ],
   "source": [
    "DB_FILE_PATH = './onemillion.sqlite'\n",
    "\n",
    "kb = svs.KB(DB_FILE_PATH, fake_embeddings, force_fresh_db=True)"
   ]
  },
  {
   "cell_type": "code",
   "execution_count": 7,
   "id": "0f30ee15-e45b-4a4b-8fe6-692139e3d761",
   "metadata": {},
   "outputs": [
    {
     "name": "stderr",
     "output_type": "stream",
     "text": [
      "2024-07-28 00:24:46,202 - svs.kb - INFO - starting bulk-add (as new database transaction)\n",
      "2024-07-28 00:24:53,793 - svs.kb - INFO - getting 1000000 document embeddings...\n",
      "2024-07-28 00:27:50,351 - svs.kb - INFO - *DONE*: got 1000000 document embeddings\n",
      "2024-07-28 00:27:50,351 - svs.kb - INFO - invalidating cached vectors; they'll be re-built next time you `retrieve()`\n",
      "2024-07-28 00:27:50,351 - svs.kb - INFO - ending bulk-add (committing the database transaction)\n"
     ]
    }
   ],
   "source": [
    "with kb.bulk_add_docs() as add_doc:\n",
    "    for doc in rand_docs:\n",
    "        add_doc(doc)"
   ]
  },
  {
   "cell_type": "code",
   "execution_count": 8,
   "id": "35fc3b2c-2c10-4627-a7c9-1e53c9a50361",
   "metadata": {},
   "outputs": [
    {
     "name": "stderr",
     "output_type": "stream",
     "text": [
      "2024-07-28 00:27:53,916 - svs.kb - INFO - invalidating cached vectors; they'll be re-built next time you `retrieve()`\n"
     ]
    }
   ],
   "source": [
    "kb.close()"
   ]
  },
  {
   "cell_type": "markdown",
   "id": "fac205b0-512e-45df-8019-83abd33743b9",
   "metadata": {},
   "source": [
    "# Step 3: Retrieve Top-100 Documents"
   ]
  },
  {
   "cell_type": "code",
   "execution_count": 9,
   "id": "9b9c8fcb-eb3e-472e-8421-f23763427f54",
   "metadata": {},
   "outputs": [
    {
     "name": "stderr",
     "output_type": "stream",
     "text": [
      "2024-07-28 00:27:55,142 - svs.kb - WARNING - Cannot store this non-standard embeddings function to the database. That's okay, but you'll have to explicitly pass this function to all future instantiations of this database.\n"
     ]
    },
    {
     "data": {
      "text/plain": [
       "1000000"
      ]
     },
     "execution_count": 9,
     "metadata": {},
     "output_type": "execute_result"
    }
   ],
   "source": [
    "kb = svs.KB(DB_FILE_PATH, fake_embeddings)\n",
    "\n",
    "len(kb)"
   ]
  },
  {
   "cell_type": "code",
   "execution_count": 10,
   "id": "df63adff-733e-4b76-bfb4-5f17b4a14d32",
   "metadata": {},
   "outputs": [
    {
     "name": "stderr",
     "output_type": "stream",
     "text": [
      "2024-07-28 00:27:57,506 - svs.kb - INFO - retrieving 100 documents with query string: pizza\n",
      "2024-07-28 00:27:57,509 - svs.kb - INFO - re-building cached vectors...\n",
      "2024-07-28 00:29:36,220 - svs.kb - INFO - re-building cached vectors... DONE!\n",
      "2024-07-28 00:29:36,221 - svs.kb - INFO - got embedding for query!\n",
      "2024-07-28 00:29:36,473 - svs.kb - INFO - computed 1000000 cosine similarities\n",
      "2024-07-28 00:29:36,479 - svs.kb - INFO - retrieved top 100 documents\n"
     ]
    },
    {
     "name": "stdout",
     "output_type": "stream",
     "text": [
      "CPU times: user 1min 33s, sys: 5.66 s, total: 1min 38s\n",
      "Wall time: 1min 38s\n"
     ]
    }
   ],
   "source": [
    "%%time\n",
    "\n",
    "# !!!!!!!!!!!!!!!!!!!!!!!!!!!!!!!!!!!!!!!!!!!!!!!!!!!!!!!!!!!!!!!!!!!!!!!!!!!!!!!!!!!!!!!!!!!!!!!!!!!!!!!!!!!!!\n",
    "# !!! THIS IS THE FIRST RETRIEVAL; IT WILL BE SLOW BECAUSE THE VECTORS HAVE TO BE LOADED FROM DISK INTO RAM !!!\n",
    "# !!!                         (SUBSEQUENT RETRIEVALS WILL BE FASTER)                                        !!!\n",
    "# !!!!!!!!!!!!!!!!!!!!!!!!!!!!!!!!!!!!!!!!!!!!!!!!!!!!!!!!!!!!!!!!!!!!!!!!!!!!!!!!!!!!!!!!!!!!!!!!!!!!!!!!!!!!!\n",
    "\n",
    "_ = kb.retrieve('pizza', n=100)"
   ]
  },
  {
   "cell_type": "code",
   "execution_count": 13,
   "id": "52c6168b-6ddc-41b4-8027-d34bc5613a5f",
   "metadata": {},
   "outputs": [
    {
     "name": "stderr",
     "output_type": "stream",
     "text": [
      "2024-07-28 00:29:46,840 - svs.kb - INFO - retrieving 100 documents with query string: taco\n",
      "2024-07-28 00:29:46,844 - svs.kb - INFO - using cached vectors\n",
      "2024-07-28 00:29:46,848 - svs.kb - INFO - got embedding for query!\n",
      "2024-07-28 00:29:47,085 - svs.kb - INFO - computed 1000000 cosine similarities\n",
      "2024-07-28 00:29:47,087 - svs.kb - INFO - retrieved top 100 documents\n"
     ]
    },
    {
     "name": "stdout",
     "output_type": "stream",
     "text": [
      "CPU times: user 783 ms, sys: 2.05 ms, total: 786 ms\n",
      "Wall time: 248 ms\n"
     ]
    }
   ],
   "source": [
    "%%time\n",
    "\n",
    "# !!!!!!!!!!!!!!!!!!!!!!!!!!!!!!!!!!!!!!!!!!!!!!!!!!!!!!!!!!!!!!!!!!!!!!!!!!!!!!!!!!!!!!!!!!!!!!!!!!!!\n",
    "# !!! THIS SUBSEQUENT RETRIEVAL WILL BE FAST BECAUSE IT WILL USE THE CACHED VECTORS ALREADY IN RAM !!!\n",
    "# !!!!!!!!!!!!!!!!!!!!!!!!!!!!!!!!!!!!!!!!!!!!!!!!!!!!!!!!!!!!!!!!!!!!!!!!!!!!!!!!!!!!!!!!!!!!!!!!!!!!\n",
    "\n",
    "_ = kb.retrieve('taco', n=100)"
   ]
  },
  {
   "cell_type": "code",
   "execution_count": 14,
   "id": "1ee8ae31-83f7-4450-badd-b402b30a8395",
   "metadata": {},
   "outputs": [
    {
     "name": "stderr",
     "output_type": "stream",
     "text": [
      "2024-07-28 00:29:49,401 - svs.kb - INFO - invalidating cached vectors; they'll be re-built next time you `retrieve()`\n"
     ]
    }
   ],
   "source": [
    "kb.close()"
   ]
  },
  {
   "cell_type": "code",
   "execution_count": null,
   "id": "d9e568d3-7a41-4dd5-a376-6ce42c3e39e5",
   "metadata": {},
   "outputs": [],
   "source": []
  }
 ],
 "metadata": {
  "kernelspec": {
   "display_name": "Python 3 (ipykernel)",
   "language": "python",
   "name": "python3"
  },
  "language_info": {
   "codemirror_mode": {
    "name": "ipython",
    "version": 3
   },
   "file_extension": ".py",
   "mimetype": "text/x-python",
   "name": "python",
   "nbconvert_exporter": "python",
   "pygments_lexer": "ipython3",
   "version": "3.12.3"
  }
 },
 "nbformat": 4,
 "nbformat_minor": 5
}
